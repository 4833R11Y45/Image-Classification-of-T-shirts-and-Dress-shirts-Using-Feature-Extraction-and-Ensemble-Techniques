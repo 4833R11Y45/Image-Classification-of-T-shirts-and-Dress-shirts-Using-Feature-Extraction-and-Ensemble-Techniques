{
  "nbformat": 4,
  "nbformat_minor": 0,
  "metadata": {
    "colab": {
      "provenance": []
    },
    "kernelspec": {
      "name": "python3",
      "display_name": "Python 3"
    },
    "language_info": {
      "name": "python"
    }
  },
  "cells": [
    {
      "cell_type": "code",
      "execution_count": 18,
      "metadata": {
        "id": "hcYIAt4Wpyg5"
      },
      "outputs": [],
      "source": [
        "import numpy as np\n",
        "from skimage import feature, filters\n",
        "import pickle\n",
        "import cv2\n",
        "from skimage.feature import hog"
      ]
    },
    {
      "cell_type": "code",
      "source": [
        "# Load test data\n",
        "Xts = np.loadtxt(\"/content/drive/MyDrive/TestData.csv\")\n",
        "\n",
        "# Reshape test data to 28x28\n",
        "Xts = Xts.reshape(-1, 28, 28)"
      ],
      "metadata": {
        "id": "J-5J5sfbsMkv"
      },
      "execution_count": 19,
      "outputs": []
    },
    {
      "cell_type": "code",
      "source": [
        "def extract_features(images):\n",
        "    features = []\n",
        "    \n",
        "    for image in images:\n",
        "        # Resize the image to at least 16x16 pixels\n",
        "        resized_image = cv2.resize(image, (16, 16))\n",
        "\n",
        "        # Normalize the pixel values to 0-1\n",
        "        normalized_image = resized_image / 255.0\n",
        "\n",
        "        # Compute the HoG features\n",
        "        hog_features = hog(normalized_image, orientations=9, pixels_per_cell=(8, 8),\n",
        "                           cells_per_block=(2, 2), visualize=False, feature_vector=True)\n",
        "        \n",
        "        # Perform Canny Edge Detection on the normalized image\n",
        "        edges = cv2.Canny((normalized_image * 255).astype('uint8'), 100, 200)\n",
        "\n",
        "        # Flatten the edges image to a 1D array\n",
        "        edges_flat = edges.flatten()\n",
        "\n",
        "        # Combine the HoG features and Canny edges into a single feature vector\n",
        "        combined_features = np.concatenate((hog_features, edges_flat))\n",
        "\n",
        "        features.append(combined_features)\n",
        "    \n",
        "    return features"
      ],
      "metadata": {
        "id": "AAEqS18_sqVr"
      },
      "execution_count": 20,
      "outputs": []
    },
    {
      "cell_type": "code",
      "source": [
        "def load_model(filename):\n",
        "    # Load the saved model\n",
        "    with open(filename, \"rb\") as file:\n",
        "        model = pickle.load(file)\n",
        "\n",
        "    return model"
      ],
      "metadata": {
        "id": "VXfMItJzs2pk"
      },
      "execution_count": 21,
      "outputs": []
    },
    {
      "cell_type": "code",
      "source": [
        "def save_predictions(predictions, filename):\n",
        "    # Save the predictions to a CSV file\n",
        "    np.savetxt(filename, predictions)"
      ],
      "metadata": {
        "id": "UmCXYD8ls7jJ"
      },
      "execution_count": 22,
      "outputs": []
    },
    {
      "cell_type": "code",
      "source": [
        "if __name__ == '__main__':\n",
        "    # Extract features from test data\n",
        "    x_test_features = extract_features(Xts)\n",
        "\n",
        "    # Load the saved model\n",
        "    model = load_model(\"/content/drive/MyDrive/myModel.pkl\")\n",
        "\n",
        "    # Generate predictions for the test data\n",
        "    predictions = model.predict(x_test_features)\n",
        "\n",
        "    # Save the predictions to a CSV file\n",
        "    save_predictions(predictions, \"myPredictions.csv\")"
      ],
      "metadata": {
        "id": "PsAqbm7wtC3n"
      },
      "execution_count": 23,
      "outputs": []
    }
  ]
}